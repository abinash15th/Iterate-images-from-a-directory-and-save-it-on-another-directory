{
 "cells": [
  {
   "cell_type": "code",
   "execution_count": null,
   "id": "593ada32",
   "metadata": {},
   "outputs": [],
   "source": [
    "!pip install instaloader\n",
    "!pip install pillow"
   ]
  },
  {
   "cell_type": "code",
   "execution_count": null,
   "id": "a3a69171",
   "metadata": {},
   "outputs": [],
   "source": [
    "from datetime import datetime\n",
    "from itertools import dropwhile, takewhile\n",
    "\n",
    "import instaloader\n",
    "\n",
    "L = instaloader.Instaloader()\n",
    "\n",
    "posts = instaloader.Profile.from_username(L.context, \"avinash_vt_\").get_posts()\n",
    "\n",
    "SINCE = datetime(2022, 12, 11)\n",
    "UNTIL = datetime(2020, 5, 3)\n",
    "\n",
    "for post in takewhile(lambda p: p.date > UNTIL, dropwhile(lambda p: p.date > SINCE, posts)):\n",
    "    print(post.date)\n",
    "    L.download_post(post, \"avinash_vt_\")"
   ]
  },
  {
   "cell_type": "code",
   "execution_count": null,
   "id": "25cd5910",
   "metadata": {},
   "outputs": [],
   "source": [
    "import glob\n",
    "from PIL import Image\n",
    "i=1\n",
    "images = glob.glob(\"C:/Users/user/avinash_vt_/*.jpg\")\n",
    "for image in images:\n",
    "    with open(image,\"rb\") as file:\n",
    "        img = Image.open(file)\n",
    "        imgResult = img.resize((800,800), resample = Image.BILINEAR)\n",
    "        imgResult.save(\"C:/Users/user/abi/\"+str(i)+\".jpg\", 'JPEG')\n",
    "        i=i+1\n",
    "        print(\"All good\")"
   ]
  },
  {
   "cell_type": "code",
   "execution_count": null,
   "id": "9144b270",
   "metadata": {},
   "outputs": [],
   "source": []
  }
 ],
 "metadata": {
  "kernelspec": {
   "display_name": "Python 3 (ipykernel)",
   "language": "python",
   "name": "python3"
  },
  "language_info": {
   "codemirror_mode": {
    "name": "ipython",
    "version": 3
   },
   "file_extension": ".py",
   "mimetype": "text/x-python",
   "name": "python",
   "nbconvert_exporter": "python",
   "pygments_lexer": "ipython3",
   "version": "3.9.12"
  }
 },
 "nbformat": 4,
 "nbformat_minor": 5
}
